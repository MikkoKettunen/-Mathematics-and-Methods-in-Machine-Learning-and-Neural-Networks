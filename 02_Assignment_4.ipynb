{
 "cells": [
  {
   "cell_type": "markdown",
   "metadata": {},
   "source": [
    "# Assingment - Linear regression\n",
    "Mikko Kettunen<br>\n",
    "Last edited: 05.03.2020<br>\n",
    "Mathematics and Methods in Machine Learning and Neural Networks<br>"
   ]
  },
  {
   "cell_type": "markdown",
   "metadata": {},
   "source": [
    "# Background\n",
    "The aim of this notebook is to create a linear regression model, that predicts alcohol content of a wines based on their other values.\n",
    "<br>\n",
    "<br>"
   ]
  },
  {
   "cell_type": "markdown",
   "metadata": {},
   "source": [
    "1. The equation for our multiple regression model is:\n",
    "Yi = β1xi1 + ... + βpxip + εi\n",
    "<br>\n",
    "<br>\n",
    "2. The 5 most useful variables are fixed acidity, volatile acidity, citric acid, pH and sulfates. Results were estimated from the coefficients calculated in the last cell.\n",
    "<br>\n",
    "<br>\n",
    "3. We divided the data, 80% to training and 20% to testing. The MSE and and R2S values were approximately: 0.555 and 0.537 in the training set. With the testing set the values were approximately: 0.474 and 0.450"
   ]
  },
  {
   "cell_type": "code",
   "execution_count": 22,
   "metadata": {},
   "outputs": [
    {
     "name": "stdout",
     "output_type": "stream",
     "text": [
      "      fixed acidity  volatile acidity  citric acid  residual sugar  chlorides  \\\n",
      "0               7.4             0.700         0.00             1.9      0.076   \n",
      "1               7.8             0.880         0.00             2.6      0.098   \n",
      "2               7.8             0.760         0.04             2.3      0.092   \n",
      "3              11.2             0.280         0.56             1.9      0.075   \n",
      "4               7.4             0.700         0.00             1.9      0.076   \n",
      "...             ...               ...          ...             ...        ...   \n",
      "1594            6.2             0.600         0.08             2.0      0.090   \n",
      "1595            5.9             0.550         0.10             2.2      0.062   \n",
      "1596            6.3             0.510         0.13             2.3      0.076   \n",
      "1597            5.9             0.645         0.12             2.0      0.075   \n",
      "1598            6.0             0.310         0.47             3.6      0.067   \n",
      "\n",
      "      free sulfur dioxide  total sulfur dioxide  density    pH  sulphates  \\\n",
      "0                    11.0                  34.0  0.99780  3.51       0.56   \n",
      "1                    25.0                  67.0  0.99680  3.20       0.68   \n",
      "2                    15.0                  54.0  0.99700  3.26       0.65   \n",
      "3                    17.0                  60.0  0.99800  3.16       0.58   \n",
      "4                    11.0                  34.0  0.99780  3.51       0.56   \n",
      "...                   ...                   ...      ...   ...        ...   \n",
      "1594                 32.0                  44.0  0.99490  3.45       0.58   \n",
      "1595                 39.0                  51.0  0.99512  3.52       0.76   \n",
      "1596                 29.0                  40.0  0.99574  3.42       0.75   \n",
      "1597                 32.0                  44.0  0.99547  3.57       0.71   \n",
      "1598                 18.0                  42.0  0.99549  3.39       0.66   \n",
      "\n",
      "      alcohol  \n",
      "0         9.4  \n",
      "1         9.8  \n",
      "2         9.8  \n",
      "3         9.8  \n",
      "4         9.4  \n",
      "...       ...  \n",
      "1594     10.5  \n",
      "1595     11.2  \n",
      "1596     11.0  \n",
      "1597     10.2  \n",
      "1598     11.0  \n",
      "\n",
      "[1599 rows x 11 columns]\n"
     ]
    }
   ],
   "source": [
    "import numpy as np\n",
    "import pandas as pd\n",
    "from sklearn import linear_model\n",
    "from sklearn.metrics import mean_squared_error, r2_score\n",
    "from sklearn.preprocessing import StandardScaler\n",
    "import matplotlib.pyplot as plt\n",
    "from sklearn.model_selection import train_test_split\n",
    "\n",
    "# read data\n",
    "df = pd.read_csv('winequality-red.csv', sep=';')\n",
    "del df['quality'] # Delete the wine quality column\n",
    "print(df)"
   ]
  },
  {
   "cell_type": "code",
   "execution_count": 23,
   "metadata": {},
   "outputs": [
    {
     "name": "stdout",
     "output_type": "stream",
     "text": [
      "MSE =  0.5553620953326607\n",
      "R2s =  0.5372765558524137\n",
      "\n",
      "MSE =  0.47457703762942194\n",
      "R2s =  0.4501437225946795\n"
     ]
    }
   ],
   "source": [
    "# split into input and output variables \n",
    "# Alcohol content was chosen as the trait\n",
    "X = df.iloc[:,1:10]\n",
    "Y = df.iloc[:,10]\n",
    "\n",
    "# Divide dataframe to training and testing sets in 80/20 division\n",
    "X, X2, Y, Y2 = train_test_split(X, Y, test_size=0.20, shuffle=False)\n",
    "\n",
    "# build and fit model\n",
    "reg = linear_model.LinearRegression()\n",
    "reg.fit(X,Y)\n",
    "\n",
    "# compute predicted values\n",
    "Y_pred = reg.predict(X)\n",
    "Y2_pred = reg.predict(X2)\n",
    "\n",
    "# compute error statistics\n",
    "mse = mean_squared_error(Y, Y_pred)\n",
    "r2s = r2_score(Y, Y_pred) \n",
    "print(\"MSE = \", mse)\n",
    "print(\"R2s = \", r2s)\n",
    "print()\n",
    "\n",
    "# Split validation error statistics\n",
    "mse = mean_squared_error(Y2, Y2_pred)\n",
    "r2s = r2_score(Y2, Y2_pred) \n",
    "print(\"MSE = \", mse)\n",
    "print(\"R2s = \", r2s)"
   ]
  },
  {
   "cell_type": "code",
   "execution_count": 24,
   "metadata": {
    "scrolled": true
   },
   "outputs": [
    {
     "name": "stdout",
     "output_type": "stream",
     "text": [
      "      observed  predicted  residual\n",
      "0          9.4   9.554906 -0.154906\n",
      "1          9.8   9.717979  0.082021\n",
      "2          9.8   9.677205  0.122795\n",
      "3          9.8  10.041558 -0.241558\n",
      "4          9.4   9.554906 -0.154906\n",
      "...        ...        ...       ...\n",
      "1274      11.2  10.706885  0.493115\n",
      "1275       9.5   9.822938 -0.322938\n",
      "1276      12.0  12.362739 -0.362739\n",
      "1277       9.7   9.925193 -0.225193\n",
      "1278       9.5   9.822938 -0.322938\n",
      "\n",
      "[1279 rows x 3 columns]\n"
     ]
    }
   ],
   "source": [
    "# merge observed and predicted values and compute residuals\n",
    "df2 = pd.concat([Y, pd.Series(Y_pred), pd.Series(Y-Y_pred)], axis=1)\n",
    "df2.columns=['observed','predicted','residual']\n",
    "print(df2)"
   ]
  },
  {
   "cell_type": "code",
   "execution_count": 25,
   "metadata": {},
   "outputs": [
    {
     "data": {
      "text/plain": [
       "<Figure size 432x288 with 0 Axes>"
      ]
     },
     "metadata": {},
     "output_type": "display_data"
    },
    {
     "data": {
      "image/png": "[encoded data removed]",
      "text/plain": [
       "<Figure size 432x288 with 1 Axes>"
      ]
     },
     "metadata": {
      "needs_background": "light"
     },
     "output_type": "display_data"
    }
   ],
   "source": [
    "# plot observed vs predicted values\n",
    "plt.figure()\n",
    "df2.plot.scatter(x='observed', y='predicted')\n",
    "plt.plot(Y_pred, Y_pred, color='red', linewidth=1)\n",
    "plt.show()"
   ]
  },
  {
   "cell_type": "code",
   "execution_count": 26,
   "metadata": {},
   "outputs": [
    {
     "data": {
      "text/plain": [
       "<Figure size 432x288 with 0 Axes>"
      ]
     },
     "metadata": {},
     "output_type": "display_data"
    },
    {
     "data": {
      "image/png": "[encoded data removed]",
      "text/plain": [
       "<Figure size 432x288 with 1 Axes>"
      ]
     },
     "metadata": {
      "needs_background": "light"
     },
     "output_type": "display_data"
    }
   ],
   "source": [
    "# plot residuals\n",
    "plt.figure()\n",
    "df2.plot.scatter(x='observed', y='residual')\n",
    "plt.plot([0,45], [0,0], color='red', linewidth=1)\n",
    "plt.show()"
   ]
  },
  {
   "cell_type": "code",
   "execution_count": 27,
   "metadata": {},
   "outputs": [
    {
     "name": "stdout",
     "output_type": "stream",
     "text": [
      "             0         1         2         3         4         5         6  \\\n",
      "0    -0.528360  0.961877 -1.391472 -0.453218 -0.243707 -0.466193 -0.379133   \n",
      "1    -0.298547  1.967442 -1.391472  0.043416  0.223875  0.872638  0.624363   \n",
      "2    -0.298547  1.297065 -1.186070 -0.169427  0.096353 -0.083669  0.229047   \n",
      "3     1.654856 -1.384443  1.484154 -0.453218 -0.264960  0.107592  0.411500   \n",
      "4    -0.528360  0.961877 -1.391472 -0.453218 -0.243707 -0.466193 -0.379133   \n",
      "...        ...       ...       ...       ...       ...       ...       ...   \n",
      "1594 -1.217796  0.403229 -0.980669 -0.382271  0.053845  1.542054 -0.075043   \n",
      "1595 -1.390155  0.123905 -0.877968 -0.240375 -0.541259  2.211469  0.137820   \n",
      "1596 -1.160343 -0.099554 -0.723916 -0.169427 -0.243707  1.255161 -0.196679   \n",
      "1597 -1.390155  0.654620 -0.775267 -0.382271 -0.264960  1.542054 -0.075043   \n",
      "1598 -1.332702 -1.216849  1.021999  0.752894 -0.434990  0.203223 -0.135861   \n",
      "\n",
      "             7         8         9        10  \n",
      "0     0.558274  1.288643 -0.579207 -0.960246  \n",
      "1     0.028261 -0.719933  0.128950 -0.584777  \n",
      "2     0.134264 -0.331177 -0.048089 -0.584777  \n",
      "3     0.664277 -0.979104 -0.461180 -0.584777  \n",
      "4     0.558274  1.288643 -0.579207 -0.960246  \n",
      "...        ...       ...       ...       ...  \n",
      "1594 -0.978765  0.899886 -0.461180  0.072294  \n",
      "1595 -0.862162  1.353436  0.601055  0.729364  \n",
      "1596 -0.533554  0.705508  0.542042  0.541630  \n",
      "1597 -0.676657  1.677400  0.305990 -0.209308  \n",
      "1598 -0.666057  0.511130  0.010924  0.541630  \n",
      "\n",
      "[1599 rows x 11 columns]\n",
      "Standardized variables...\n",
      "Coefficients: [ 0.11550459  0.47654241  0.28490495 -0.21744616  0.03849066 -0.25233233\n",
      " -0.67537431  0.19275366  0.20089668]\n"
     ]
    }
   ],
   "source": [
    "# normalize variables and rerun MLR analysis to\n",
    "# estimate variable importance\n",
    "scaler = StandardScaler()\n",
    "dfn = pd.DataFrame(scaler.fit_transform(df))\n",
    "print(dfn)\n",
    "Xn = dfn.iloc[:,1:10]\n",
    "Yn = dfn.iloc[:,10]\n",
    "reg2 = linear_model.LinearRegression()\n",
    "reg2.fit(Xn,Yn)\n",
    "print(\"Standardized variables...\")\n",
    "print(\"Coefficients:\" ,reg2.coef_)"
   ]
  },
  {
   "cell_type": "code",
   "execution_count": null,
   "metadata": {},
   "outputs": [],
   "source": []
  }
 ],
 "metadata": {
  "kernelspec": {
   "display_name": "Python 3",
   "language": "python",
   "name": "python3"
  },
  "language_info": {
   "codemirror_mode": {
    "name": "ipython",
    "version": 3
   },
   "file_extension": ".py",
   "mimetype": "text/x-python",
   "name": "python",
   "nbconvert_exporter": "python",
   "pygments_lexer": "ipython3",
   "version": "3.7.3"
  }
 },
 "nbformat": 4,
 "nbformat_minor": 2
}
